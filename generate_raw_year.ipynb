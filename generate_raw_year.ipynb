{
 "cells": [
  {
   "cell_type": "code",
   "execution_count": null,
   "id": "initial_id",
   "metadata": {
    "collapsed": true,
    "ExecuteTime": {
     "start_time": "2024-02-18T13:59:54.755603700Z"
    }
   },
   "outputs": [],
   "source": [
    "import pandas as pd\n",
    "from pathlib import Path\n",
    "\n",
    "header = True\n",
    "\n",
    "data_dir: Path = Path(\"data\")\n",
    "\n",
    "with pd.read_csv(data_dir / \"GDELT.MASTERREDUCEDV2.TXT\", sep=\"\\t\", header=0, chunksize=1_000_000) as reader:\n",
    "    for i, chunk in enumerate(reader):\n",
    "        print(\"chunk-\",i, header)\n",
    "        chunk.to_csv(data_dir / \"raw.csv\", columns=[\"Date\", \"Source\", \"Target\", \"CAMEOCode\", \"NumEvents\", \"NumArts\", \"Goldstein\"], index=False, mode=\"a\", header=header)\n",
    "        header = False"
   ]
  },
  {
   "cell_type": "code",
   "outputs": [],
   "source": [
    "raw_year_dir = data_dir / \"raw_year\"\n",
    "\n",
    "df = pd.read_csv(data_dir / \"raw.csv\")\n",
    "df[\"Date\"] = pd.to_datetime(df[\"Date\"], format=\"%Y%m%d\")\n",
    "\n",
    "grouped = df.groupby(df[\"Date\"].dt.year)\n",
    "\n",
    "for year, group in grouped:\n",
    "    group.to_csv(raw_year_dir / f\"raw_{year}.csv\", index=False, header=True)"
   ],
   "metadata": {
    "collapsed": false
   },
   "id": "92aab7f73c68d0ef",
   "execution_count": null
  }
 ],
 "metadata": {
  "kernelspec": {
   "display_name": "Python 3",
   "language": "python",
   "name": "python3"
  },
  "language_info": {
   "codemirror_mode": {
    "name": "ipython",
    "version": 2
   },
   "file_extension": ".py",
   "mimetype": "text/x-python",
   "name": "python",
   "nbconvert_exporter": "python",
   "pygments_lexer": "ipython2",
   "version": "2.7.6"
  }
 },
 "nbformat": 4,
 "nbformat_minor": 5
}
