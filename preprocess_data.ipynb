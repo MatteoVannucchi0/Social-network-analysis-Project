{
 "cells": [
  {
   "cell_type": "code",
   "outputs": [],
   "source": [
    "import pandas as pd\n",
    "from preprocess import load_data_year\n",
    "import seaborn as sns\n",
    "import matplotlib.pyplot as plt\n",
    "from analysis import aggregate_by_country"
   ],
   "metadata": {
    "collapsed": false
   },
   "execution_count": null
  },
  {
   "cell_type": "code",
   "outputs": [],
   "source": [
    "# Load data\n",
    "year = 1994\n",
    "data = load_data_year(year)"
   ],
   "metadata": {
    "collapsed": false
   },
   "execution_count": null
  },
  {
   "cell_type": "code",
   "outputs": [],
   "source": [
    "data_agg = pd.read_csv('data/aggregated/aggregated_1994.csv')\n",
    "data_agg.head(1000)"
   ],
   "metadata": {
    "collapsed": false
   },
   "execution_count": null
  },
  {
   "cell_type": "markdown",
   "source": [
    "# Data analysis\n",
    "In this section we will perform a general analysis on the data"
   ],
   "metadata": {
    "collapsed": false
   }
  },
  {
   "cell_type": "code",
   "outputs": [],
   "source": [
    "sources = ['USA', 'DEU', 'FRA', 'GBR', 'JPN', 'CHN', 'IND', 'BRA', 'RUS', 'IRN']\n",
    "# Analyze the distribution of the goldstein values\n",
    "#sns.boxplot(data=data, x='Goldstein')\n",
    "# Plot goldstein values distribution\n",
    "sns.histplot(data, x='Goldstein', bins=100, kde=True)\n",
    "plt.title(f'Goldstein values distribution in year {year}');"
   ],
   "metadata": {
    "collapsed": false
   },
   "execution_count": null
  },
  {
   "cell_type": "code",
   "outputs": [],
   "source": [
    "# Count the entries for each source\n",
    "source_counts = data['Source code'].value_counts()\n",
    "# Plot the source counts\n",
    "plt.figure(figsize=(10, 5))\n",
    "sns.displot(source_counts, bins=50, kde=True)\n",
    "plt.title(f'Number of entries for each source in year {year}');"
   ],
   "metadata": {
    "collapsed": false
   },
   "execution_count": null
  },
  {
   "cell_type": "markdown",
   "source": [
    "## Analysis on aggregated data"
   ],
   "metadata": {
    "collapsed": false
   }
  },
  {
   "cell_type": "code",
   "outputs": [],
   "source": [
    "def aggregated_barplot(data, x, y, k):\n",
    "    data_aggregated = aggregate_by_country(data, x)\n",
    "    top_k = data_aggregated.sort_values(y, ascending=False).head(k)\n",
    "    worst_k = data_aggregated.sort_values(y, ascending=True).head(k)\n",
    "    plt.figure(figsize=(10, 5))\n",
    "    plt.subplot(1, 2, 1)\n",
    "    sns.barplot(data=top_k, x=x, y=y)\n",
    "    # Verical rotation of the x labels\n",
    "    plt.xticks(rotation=90)\n",
    "    plt.title(f'Top {k} {x} in year {year}')\n",
    "    plt.subplot(1, 2, 2)\n",
    "    sns.barplot(data=worst_k, x=x, y=y)\n",
    "    plt.xticks(rotation=90)\n",
    "    plt.title(f'Worst {k} {x} in year {year}');"
   ],
   "metadata": {
    "collapsed": false
   },
   "execution_count": null
  },
  {
   "cell_type": "code",
   "outputs": [],
   "source": [
    "k = 10\n",
    "self_include = True\n",
    "data_aggregated_source = aggregate_by_country(data, 'Source code', self_include)\n",
    "data_aggregated_target = aggregate_by_country(data, 'Target code', self_include)\n",
    "aggregated_barplot(data, 'Source code', 'Goldstein', k)\n",
    "aggregated_barplot(data, 'Target code', 'Goldstein', k)"
   ],
   "metadata": {
    "collapsed": false
   },
   "execution_count": null
  },
  {
   "cell_type": "code",
   "outputs": [],
   "source": [
    "data_aggregated_source_target = aggregate_by_country(data, ['Source code', 'Target code'], self_include)\n",
    "# Make pairs aggregation\n",
    "data_aggregated_source_target['Source-Target'] = data_aggregated_source_target['Source code'] + '-' + data_aggregated_source_target['Target code']\n",
    "aggregated_barplot(data_aggregated_source_target, 'Source-Target', 'Goldstein', k)"
   ],
   "metadata": {
    "collapsed": false
   },
   "execution_count": null
  },
  {
   "cell_type": "markdown",
   "source": [
    "## Best frienships"
   ],
   "metadata": {
    "collapsed": false
   }
  },
  {
   "cell_type": "code",
   "outputs": [],
   "source": [
    "# Get the best friendships\n"
   ],
   "metadata": {
    "collapsed": false
   }
  }
 ],
 "metadata": {
  "kernelspec": {
   "display_name": "Python 3",
   "language": "python",
   "name": "python3"
  },
  "language_info": {
   "codemirror_mode": {
    "name": "ipython",
    "version": 3
   },
   "file_extension": ".py",
   "mimetype": "text/x-python",
   "name": "python",
   "nbconvert_exporter": "python",
   "pygments_lexer": "ipython3",
   "version": "3.12.0"
  }
 },
 "nbformat": 4,
 "nbformat_minor": 2
}
