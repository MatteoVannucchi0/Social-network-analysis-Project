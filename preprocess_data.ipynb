{
 "cells": [
  {
   "cell_type": "code",
   "outputs": [],
   "source": [
    "import pandas as pd"
   ],
   "metadata": {
    "collapsed": false
   },
   "execution_count": null
  },
  {
   "cell_type": "code",
   "execution_count": null,
   "metadata": {},
   "outputs": [],
   "source": [
    "header = True\n",
    "\n",
    "with pd.read_csv(\"GDELT.MASTERREDUCEDV2.TXT\", sep=\"\\t\", header=0, chunksize=1_000_000) as reader:\n",
    "    for i, chunk in enumerate(reader):\n",
    "        print(\"chunk-\",i, header)\n",
    "        chunk.to_csv(f\"processed.csv\", columns=[\"Date\", \"Source\", \"Target\", \"CAMEOCode\", \"NumEvents\", \"NumArts\", \"Goldstein\"], index=False, mode=\"a\", header=header)\n",
    "        header = False"
   ]
  },
  {
   "cell_type": "code",
   "execution_count": 29,
   "metadata": {
    "ExecuteTime": {
     "end_time": "2024-02-09T11:47:47.127287Z",
     "start_time": "2024-02-09T11:44:33.458049400Z"
    }
   },
   "outputs": [
    {
     "name": "stderr",
     "output_type": "stream",
     "text": [
      "C:\\Users\\Matteo\\AppData\\Local\\Temp\\ipykernel_19948\\2433887756.py:1: DtypeWarning: Columns (3) have mixed types. Specify dtype option on import or set low_memory=False.\n",
      "  df = pd.read_csv(\"processed.csv\")\n"
     ]
    }
   ],
   "source": [
    "df = pd.read_csv(\"processed.csv\")\n",
    "df[\"Date\"] = pd.to_datetime(df[\"Date\"], format=\"%Y%m%d\")\n",
    "\n",
    "grouped = df.groupby(df[\"Date\"].dt.year)\n",
    "\n",
    "for year, group in grouped:\n",
    "    group.to_csv(f\"per_year/processed_{year}.csv\", index=False, header=True)"
   ]
  }
 ],
 "metadata": {
  "kernelspec": {
   "display_name": "Python 3",
   "language": "python",
   "name": "python3"
  },
  "language_info": {
   "codemirror_mode": {
    "name": "ipython",
    "version": 3
   },
   "file_extension": ".py",
   "mimetype": "text/x-python",
   "name": "python",
   "nbconvert_exporter": "python",
   "pygments_lexer": "ipython3",
   "version": "3.12.0"
  }
 },
 "nbformat": 4,
 "nbformat_minor": 2
}
